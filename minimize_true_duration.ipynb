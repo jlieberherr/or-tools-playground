{
 "cells": [
  {
   "cell_type": "markdown",
   "id": "cb922412-39a0-421a-8f53-709b9338f124",
   "metadata": {},
   "source": [
    "# Set a given number of boolean variables in an array to True such that the first and last True variable are as close as possible"
   ]
  },
  {
   "cell_type": "code",
   "execution_count": 1,
   "id": "1300560a-2248-4c85-a29e-a968c5f7e720",
   "metadata": {},
   "outputs": [],
   "source": [
    "from ortools.sat.python import cp_model"
   ]
  },
  {
   "cell_type": "code",
   "execution_count": 2,
   "id": "c974d9ce-030f-46bb-8d44-7c1b68845537",
   "metadata": {},
   "outputs": [],
   "source": [
    "n = 11"
   ]
  },
  {
   "cell_type": "code",
   "execution_count": 3,
   "id": "f8689106-626a-4967-b178-83c7ffe3c58d",
   "metadata": {},
   "outputs": [],
   "source": [
    "model = cp_model.CpModel()"
   ]
  },
  {
   "cell_type": "code",
   "execution_count": 4,
   "id": "da9b4d2e-0629-4eb6-9d5b-eb35c25f3bd2",
   "metadata": {},
   "outputs": [],
   "source": [
    "x = {}\n",
    "for i in range(n):\n",
    "    x[i] = model.NewBoolVar(f\"x_{i}\")"
   ]
  },
  {
   "cell_type": "code",
   "execution_count": 5,
   "id": "5c508973-c723-421c-b3c1-4ee4cc77ec46",
   "metadata": {},
   "outputs": [
    {
     "data": {
      "text/plain": [
       "<ortools.sat.python.cp_model.Constraint at 0x1f1be65c2c0>"
      ]
     },
     "execution_count": 5,
     "metadata": {},
     "output_type": "execute_result"
    }
   ],
   "source": [
    "model.Add(sum([x[i] for i in range(n)]) == 6)"
   ]
  },
  {
   "cell_type": "code",
   "execution_count": 6,
   "id": "9987f165-8e33-484e-93cf-40b0357e9ed2",
   "metadata": {},
   "outputs": [
    {
     "data": {
      "text/plain": [
       "<ortools.sat.python.cp_model.Constraint at 0x1f1bf266360>"
      ]
     },
     "execution_count": 6,
     "metadata": {},
     "output_type": "execute_result"
    }
   ],
   "source": [
    "model.Add(x[6] == 0)\n",
    "model.Add(x[3] == 0)"
   ]
  },
  {
   "cell_type": "code",
   "execution_count": 7,
   "id": "2b6181c2-60fa-4500-b076-5c1f9a26b739",
   "metadata": {},
   "outputs": [
    {
     "data": {
      "text/plain": [
       "<ortools.sat.python.cp_model.Constraint at 0x1f1bf064800>"
      ]
     },
     "execution_count": 7,
     "metadata": {},
     "output_type": "execute_result"
    }
   ],
   "source": [
    "model.Add(x[4] != x[5])"
   ]
  },
  {
   "cell_type": "code",
   "execution_count": 8,
   "id": "0ff1e396-098b-4980-a051-c704840dce9a",
   "metadata": {},
   "outputs": [],
   "source": [
    "y = {}\n",
    "for j in range(11):\n",
    "    y[j] = model.NewBoolVar(f\"y_{j}\")\n",
    "    model.AddMaxEquality(y[j], [x[i] for i in range(j + 1)])"
   ]
  },
  {
   "cell_type": "code",
   "execution_count": 9,
   "id": "c67db091-a5e1-4e20-a31c-0ec23b663d5c",
   "metadata": {},
   "outputs": [
    {
     "data": {
      "text/plain": [
       "<ortools.sat.python.cp_model.Constraint at 0x1f1bf4f62a0>"
      ]
     },
     "execution_count": 9,
     "metadata": {},
     "output_type": "execute_result"
    }
   ],
   "source": [
    "first_lesson = model.NewIntVar(0, n - 1, \"first_lesson\")\n",
    "model.Add(first_lesson == (n - sum([y[j] for j in range(n)])))"
   ]
  },
  {
   "cell_type": "code",
   "execution_count": 10,
   "id": "52070691-853e-4038-9c0e-6ea7442fbdda",
   "metadata": {},
   "outputs": [],
   "source": [
    "z = {}\n",
    "for k in range(11):\n",
    "    z[k] = model.NewBoolVar(f\"y_{k}\")\n",
    "    model.AddMaxEquality(z[k], [x[n - 1 - i] for i in range(k + 1)])"
   ]
  },
  {
   "cell_type": "code",
   "execution_count": 11,
   "id": "e60db329-3be0-41b1-8417-fbdd7a11b64f",
   "metadata": {},
   "outputs": [
    {
     "data": {
      "text/plain": [
       "<ortools.sat.python.cp_model.Constraint at 0x1f1bf4f6ed0>"
      ]
     },
     "execution_count": 11,
     "metadata": {},
     "output_type": "execute_result"
    }
   ],
   "source": [
    "last_lesson = model.NewIntVar(-1, n, \"last_lesson\")\n",
    "model.Add(last_lesson == sum([z[k] for k in range(n)]) - 1)"
   ]
  },
  {
   "cell_type": "code",
   "execution_count": 12,
   "id": "45680804-77c0-4ce5-9fbe-da9e3fb1719e",
   "metadata": {},
   "outputs": [],
   "source": [
    "model.Minimize(last_lesson - first_lesson)"
   ]
  },
  {
   "cell_type": "code",
   "execution_count": 13,
   "id": "34f5276b-c929-455e-8c86-e7c99bbe2cbb",
   "metadata": {},
   "outputs": [],
   "source": [
    "solver = cp_model.CpSolver()\n",
    "status = solver.Solve(model)"
   ]
  },
  {
   "cell_type": "code",
   "execution_count": 14,
   "id": "05af3bf2-4646-4e4f-bca3-4315915d77a1",
   "metadata": {},
   "outputs": [
    {
     "name": "stdout",
     "output_type": "stream",
     "text": [
      "CpSolverResponse summary:\n",
      "status: OPTIMAL\n",
      "objective: 8\n",
      "best_bound: 8\n",
      "integers: 9\n",
      "booleans: 8\n",
      "conflicts: 0\n",
      "branches: 16\n",
      "propagations: 31\n",
      "integer_propagations: 47\n",
      "restarts: 16\n",
      "lp_iterations: 1\n",
      "walltime: 0.0119542\n",
      "usertime: 0.0119542\n",
      "deterministic_time: 6.0189e-05\n",
      "gap_integral: 5.14215e-06\n",
      "solution_fingerprint: 0xa79c7b20fd749643\n",
      "\n"
     ]
    }
   ],
   "source": [
    "print(solver.ResponseStats())"
   ]
  },
  {
   "cell_type": "code",
   "execution_count": 15,
   "id": "c00ba622-b0d9-47f5-a756-b1d06acd416c",
   "metadata": {},
   "outputs": [
    {
     "data": {
      "text/plain": [
       "2"
      ]
     },
     "execution_count": 15,
     "metadata": {},
     "output_type": "execute_result"
    }
   ],
   "source": [
    "solver.Value(first_lesson)"
   ]
  },
  {
   "cell_type": "code",
   "execution_count": 16,
   "id": "b3963900-cb8a-4871-8092-671836dbe1d1",
   "metadata": {},
   "outputs": [
    {
     "data": {
      "text/plain": [
       "10"
      ]
     },
     "execution_count": 16,
     "metadata": {},
     "output_type": "execute_result"
    }
   ],
   "source": [
    "solver.Value(last_lesson)"
   ]
  },
  {
   "cell_type": "code",
   "execution_count": 17,
   "id": "50eb4914-df1c-4a0d-93f0-728996d924ce",
   "metadata": {},
   "outputs": [
    {
     "data": {
      "text/plain": [
       "[False, False, True, False, False, True, False, True, True, True, True]"
      ]
     },
     "execution_count": 17,
     "metadata": {},
     "output_type": "execute_result"
    }
   ],
   "source": [
    "[solver.BooleanValue(x[i]) for i in range(n)]"
   ]
  }
 ],
 "metadata": {
  "kernelspec": {
   "display_name": "Python 3 (ipykernel)",
   "language": "python",
   "name": "python3"
  },
  "language_info": {
   "codemirror_mode": {
    "name": "ipython",
    "version": 3
   },
   "file_extension": ".py",
   "mimetype": "text/x-python",
   "name": "python",
   "nbconvert_exporter": "python",
   "pygments_lexer": "ipython3",
   "version": "3.12.1"
  }
 },
 "nbformat": 4,
 "nbformat_minor": 5
}
